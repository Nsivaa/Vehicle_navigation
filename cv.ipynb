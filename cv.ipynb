{
 "cells": [
  {
   "cell_type": "code",
   "execution_count": 8,
   "metadata": {},
   "outputs": [
    {
     "name": "stdout",
     "output_type": "stream",
     "text": [
      "367.0\n",
      "5.0\n",
      "2059.0\n",
      "0.0\n",
      "4.5\n",
      "0.0\n",
      "10.5\n",
      "2.5\n",
      "49.0\n",
      "4.0\n",
      "x: 154 y: 125\n"
     ]
    },
    {
     "data": {
      "text/plain": [
       "True"
      ]
     },
     "execution_count": 8,
     "metadata": {},
     "output_type": "execute_result"
    }
   ],
   "source": [
    "import cv2\n",
    "import numpy as np\n",
    "# BGR \n",
    "\n",
    "image = cv2.imread(\"image.jpg\", 1)\n",
    "\n",
    "# imghsv = cv2.cvtColor(image, cv2.COLOR_BGR2HSV)\n",
    "# tried hsv but bgr works fine\n",
    "\n",
    "\n",
    "lower_red = np.array([10, 10, 80])\n",
    "upper_red = np.array([255, 255, 130])\n",
    "blurred = cv2.GaussianBlur(image, (5, 5), 0) # reduces noise and makes detection more accurate\n",
    "mask_red = cv2.inRange(blurred, lower_red, upper_red)\n",
    "contours, _ = cv2.findContours(mask_red, cv2.RETR_EXTERNAL, cv2.CHAIN_APPROX_NONE)\n",
    "im = np.copy(image)\n",
    "for i in contours:\n",
    "    cv2.drawContours(im, i, -1, (0, 255, 0), -1)\n",
    "    # fill contours with green\n",
    "    cv2.fillPoly(im, pts = [i], color=(0, 255, 0))   \n",
    "    print(cv2.contourArea(i))\n",
    "    cv2.imshow(\"image\", im)\n",
    "    cv2.waitKey(0)\n",
    "c = max(contours, key = cv2.contourArea) # largest contour \n",
    "cv2.drawContours(im, c, -1, (0, 255, 0), 1)\n",
    "M = cv2.moments(c)\n",
    "if M['m00'] != 0: # finds center of contour\n",
    "    cx = int(M['m10']/M['m00'])\n",
    "    cy = int(M['m01']/M['m00'])\n",
    "print(f\"x: {cx} y: {cy}\")\n",
    "image_x_center = image.shape[1]//2\n",
    "image_y_center = image.shape[0]//2\n",
    "im = cv2.circle(im, (cx, cy), radius=0, color=(0, 255, 0), thickness=-1)\n",
    "im = cv2.circle(im, (image_x_center, image_y_center), radius=0, color=(255, 200, 0), thickness=-1)\n",
    "\n",
    "cv2.imwrite(\"contours_red.png\", im)\n",
    "\n"
   ]
  },
  {
   "cell_type": "code",
   "execution_count": 2,
   "metadata": {},
   "outputs": [
    {
     "name": "stdout",
     "output_type": "stream",
     "text": [
      "160\n",
      "-6\n"
     ]
    }
   ],
   "source": [
    "print(image_x_center)\n",
    "delta_x = cx - image_x_center # positive if object is to the right of the center\n",
    "print(delta_x)"
   ]
  }
 ],
 "metadata": {
  "kernelspec": {
   "display_name": "Python 3",
   "language": "python",
   "name": "python3"
  },
  "language_info": {
   "codemirror_mode": {
    "name": "ipython",
    "version": 3
   },
   "file_extension": ".py",
   "mimetype": "text/x-python",
   "name": "python",
   "nbconvert_exporter": "python",
   "pygments_lexer": "ipython3",
   "version": "3.8.10"
  }
 },
 "nbformat": 4,
 "nbformat_minor": 2
}
