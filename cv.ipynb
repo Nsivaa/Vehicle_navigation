{
 "cells": [
  {
   "cell_type": "code",
   "execution_count": 44,
   "metadata": {},
   "outputs": [
    {
     "name": "stdout",
     "output_type": "stream",
     "text": [
      "x: 154 y: 125\n"
     ]
    },
    {
     "data": {
      "text/plain": [
       "True"
      ]
     },
     "execution_count": 44,
     "metadata": {},
     "output_type": "execute_result"
    }
   ],
   "source": [
    "import cv2\n",
    "import numpy as np\n",
    "# BGR \n",
    "\n",
    "image = cv2.imread(\"image.jpg\", 1)\n",
    "\n",
    "# imghsv = cv2.cvtColor(image, cv2.COLOR_BGR2HSV)\n",
    "lower_red = np.array([10, 10, 80])\n",
    "upper_red = np.array([255, 255, 130])\n",
    "blurred = cv2.GaussianBlur(image, (5, 5), 0) # reduces noise and makes detection more accurate\n",
    "mask_red = cv2.inRange(blurred, lower_red, upper_red)\n",
    "contours, _ = cv2.findContours(mask_red, cv2.RETR_EXTERNAL, cv2.CHAIN_APPROX_NONE)\n",
    "im = np.copy(image)\n",
    "c = max(contours, key = cv2.contourArea) # largest contour \n",
    "cv2.drawContours(im, c, -1, (0, 255, 0), 1)\n",
    "M = cv2.moments(c)\n",
    "if M['m00'] != 0:\n",
    "    cx = int(M['m10']/M['m00'])\n",
    "    cy = int(M['m01']/M['m00'])\n",
    "print(f\"x: {cx} y: {cy}\")\n",
    "im = cv2.circle(im, (cx, cy), radius=0, color=(255, 200, 0), thickness=-1)\n",
    "\n",
    "cv2.imwrite(\"contours_red.png\", im)\n",
    "\n"
   ]
  },
  {
   "cell_type": "code",
   "execution_count": 39,
   "metadata": {},
   "outputs": [
    {
     "name": "stdout",
     "output_type": "stream",
     "text": [
      "(240, 320, 3)\n"
     ]
    }
   ],
   "source": [
    "print(im.shape)"
   ]
  },
  {
   "cell_type": "code",
   "execution_count": 9,
   "metadata": {},
   "outputs": [
    {
     "name": "stdout",
     "output_type": "stream",
     "text": [
      "179\n",
      "0\n",
      "6.796263020833333\n"
     ]
    }
   ],
   "source": [
    "r = imghsv[:,:,0]\n",
    "print(np.max(r))\n",
    "print(np.min(r))\n",
    "print(np.average(r))"
   ]
  },
  {
   "cell_type": "code",
   "execution_count": 10,
   "metadata": {},
   "outputs": [
    {
     "name": "stdout",
     "output_type": "stream",
     "text": [
      "186\n",
      "0\n",
      "58.62268229166666\n"
     ]
    }
   ],
   "source": [
    "r = image[:,:,0]\n",
    "print(np.max(r))\n",
    "print(np.min(r))\n",
    "print(np.average(r))"
   ]
  },
  {
   "cell_type": "code",
   "execution_count": 4,
   "metadata": {},
   "outputs": [
    {
     "data": {
      "text/plain": [
       "True"
      ]
     },
     "execution_count": 4,
     "metadata": {},
     "output_type": "execute_result"
    }
   ],
   "source": [
    "contours, _ = cv2.findContours(r, cv2.RETR_EXTERNAL, cv2.CHAIN_APPROX_NONE)\n",
    "im = np.copy(image)\n",
    "cv2.drawContours(im, contours, -1, (0, 255, 0), 1)\n",
    "cv2.imwrite(\"wercontours_red.png\", im)"
   ]
  }
 ],
 "metadata": {
  "kernelspec": {
   "display_name": "Python 3",
   "language": "python",
   "name": "python3"
  },
  "language_info": {
   "codemirror_mode": {
    "name": "ipython",
    "version": 3
   },
   "file_extension": ".py",
   "mimetype": "text/x-python",
   "name": "python",
   "nbconvert_exporter": "python",
   "pygments_lexer": "ipython3",
   "version": "3.8.10"
  }
 },
 "nbformat": 4,
 "nbformat_minor": 2
}
