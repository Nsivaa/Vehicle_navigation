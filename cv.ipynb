{
 "cells": [
  {
   "cell_type": "code",
   "execution_count": 32,
   "metadata": {},
   "outputs": [
    {
     "name": "stdout",
     "output_type": "stream",
     "text": [
      "x: 23 y: 108\n"
     ]
    }
   ],
   "source": [
    "import cv2\n",
    "import numpy as np\n",
    "# BGR \n",
    "\n",
    "def process_image(image, mode, cycle = False):\n",
    "    if mode == \"hsv\":\n",
    "        # tried hsv but bgr works fine\n",
    "        result = image.copy()\n",
    "        image = cv2.cvtColor(image, cv2.COLOR_BGR2HSV)\n",
    "        lower_red = np.array([155,25,0])\n",
    "        upper_red = np.array([179,255,255])\n",
    "        '''\n",
    "        mask = cv2.inRange(image, lower_red, upper_red)\n",
    "        result = cv2.bitwise_and(result, result, mask=mask)\n",
    "\n",
    "        cv2.imshow('mask', mask)\n",
    "        cv2.imshow('result', result)\n",
    "        cv2.waitKey()\n",
    "        '''\n",
    "    elif mode == \"bgr\":\n",
    "        lower_red = np.array([10, 10, 75])\n",
    "        upper_red = np.array([255, 255, 130])\n",
    "    \n",
    "    blurred = cv2.GaussianBlur(image, (5, 5), 0) # reduces noise and makes detection more accurate\n",
    "    mask_red = cv2.inRange(blurred, lower_red, upper_red)\n",
    "    contours, _ = cv2.findContours(mask_red, cv2.RETR_EXTERNAL, cv2.CHAIN_APPROX_NONE)\n",
    "    im = np.copy(image)\n",
    "    if cycle:\n",
    "        for i in contours:\n",
    "            cv2.drawContours(im, i, -1, (0, 255, 0), -1)\n",
    "            # fill contours with green\n",
    "            cv2.fillPoly(im, pts = [i], color=(0, 255, 0))   \n",
    "            print(cv2.contourArea(i))\n",
    "            cv2.imshow(\"image\", im)\n",
    "            cv2.waitKey(0)\n",
    "    c = max(contours, key = cv2.contourArea) # largest contour \n",
    "    cv2.drawContours(im, c, -1, (0, 255, 0), 1)\n",
    "    cv2.fillPoly(im, pts = [c], color=(0, 255, 0))   \n",
    "    cv2.imshow(\"image\", im)\n",
    "    cv2.waitKey(0)\n",
    "    M = cv2.moments(c)\n",
    "    if M['m00'] != 0: # finds center of contour\n",
    "        cx = int(M['m10']/M['m00'])\n",
    "        cy = int(M['m01']/M['m00'])\n",
    "    print(f\"x: {cx} y: {cy}\")\n",
    "    image_x_center = image.shape[1]//2\n",
    "    image_y_center = image.shape[0]//2\n",
    "    im = cv2.circle(im, (cx, cy), radius=5, color=(200, 200, 200), thickness=-1)\n",
    "    im = cv2.circle(im, (image_x_center, image_y_center), radius=0, color=(255, 200, 0), thickness=-1)\n",
    "\n",
    "    cv2.imwrite(\"contours_red.png\", im)\n",
    "\n",
    "\n",
    "\n",
    "image = cv2.imread(\"596.212.jpg\", 1)\n",
    "process_image(image, \"hsv\", cycle= False)\n"
   ]
  },
  {
   "cell_type": "code",
   "execution_count": 34,
   "metadata": {},
   "outputs": [
    {
     "name": "stdout",
     "output_type": "stream",
     "text": [
      "[49 51 52]\n"
     ]
    }
   ],
   "source": [
    "image = cv2.imread(\"image.jpg\", 1)\n",
    "print(image[160,240,:])"
   ]
  },
  {
   "cell_type": "code",
   "execution_count": 37,
   "metadata": {},
   "outputs": [
    {
     "ename": "KeyboardInterrupt",
     "evalue": "",
     "output_type": "error",
     "traceback": [
      "\u001b[0;31m---------------------------------------------------------------------------\u001b[0m",
      "\u001b[0;31mKeyboardInterrupt\u001b[0m                         Traceback (most recent call last)",
      "Cell \u001b[0;32mIn[37], line 35\u001b[0m\n\u001b[1;32m     33\u001b[0m cv2\u001b[38;5;241m.\u001b[39mimshow(\u001b[38;5;124m'\u001b[39m\u001b[38;5;124mRed Mask\u001b[39m\u001b[38;5;124m'\u001b[39m, red_mask)\n\u001b[1;32m     34\u001b[0m cv2\u001b[38;5;241m.\u001b[39mimshow(\u001b[38;5;124m'\u001b[39m\u001b[38;5;124mDetected Red Shapes\u001b[39m\u001b[38;5;124m'\u001b[39m, image)\n\u001b[0;32m---> 35\u001b[0m \u001b[43mcv2\u001b[49m\u001b[38;5;241;43m.\u001b[39;49m\u001b[43mwaitKey\u001b[49m\u001b[43m(\u001b[49m\u001b[38;5;241;43m0\u001b[39;49m\u001b[43m)\u001b[49m\n\u001b[1;32m     36\u001b[0m cv2\u001b[38;5;241m.\u001b[39mdestroyAllWindows()\n",
      "\u001b[0;31mKeyboardInterrupt\u001b[0m: "
     ]
    }
   ],
   "source": [
    "import cv2\n",
    "import numpy as np\n",
    "\n",
    "# Read the image\n",
    "image = cv2.imread('596.212.jpg')\n",
    "\n",
    "# Convert the image to HSV color space\n",
    "hsv_image = cv2.cvtColor(image, cv2.COLOR_BGR2HSV)\n",
    "\n",
    "# Define the range for the red color in HSV space\n",
    "lower_red_1 = np.array([0, 100, 100])\n",
    "upper_red_1 = np.array([10, 255, 255])\n",
    "lower_red_2 = np.array([160, 100, 100])\n",
    "upper_red_2 = np.array([180, 255, 255])\n",
    "\n",
    "# Create masks for the red color\n",
    "mask1 = cv2.inRange(hsv_image, lower_red_1, upper_red_1)\n",
    "mask2 = cv2.inRange(hsv_image, lower_red_2, upper_red_2)\n",
    "red_mask = cv2.bitwise_or(mask1, mask2)\n",
    "\n",
    "# Find contours in the masked image\n",
    "contours, _ = cv2.findContours(red_mask, cv2.RETR_TREE, cv2.CHAIN_APPROX_SIMPLE)\n",
    "\n",
    "# Filter and draw contours on the original image\n",
    "for contour in contours:\n",
    "    # Optionally, filter contours by area or shape here\n",
    "    # Example: if cv2.contourArea(contour) > 1000:\n",
    "\n",
    "    # Draw the contour on the original image\n",
    "    cv2.drawContours(image, [contour], -1, (0, 255, 0), 3)\n",
    "\n",
    "# Display the results\n",
    "cv2.imshow('Detected Red Shapes', image)\n",
    "cv2.waitKey(0)\n",
    "cv2.destroyAllWindows()\n"
   ]
  },
  {
   "cell_type": "code",
   "execution_count": 15,
   "metadata": {},
   "outputs": [
    {
     "data": {
      "text/plain": [
       "0.7310585786300049"
      ]
     },
     "execution_count": 15,
     "metadata": {},
     "output_type": "execute_result"
    }
   ],
   "source": [
    "import math\n",
    "\n",
    "def sigmoid(x):\n",
    "    return 1/(1+math.exp(-x))\n",
    "sigmoid(1)"
   ]
  }
 ],
 "metadata": {
  "kernelspec": {
   "display_name": "Python 3",
   "language": "python",
   "name": "python3"
  },
  "language_info": {
   "codemirror_mode": {
    "name": "ipython",
    "version": 3
   },
   "file_extension": ".py",
   "mimetype": "text/x-python",
   "name": "python",
   "nbconvert_exporter": "python",
   "pygments_lexer": "ipython3",
   "version": "3.8.10"
  }
 },
 "nbformat": 4,
 "nbformat_minor": 2
}
